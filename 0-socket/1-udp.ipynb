{
 "cells": [
  {
   "cell_type": "markdown",
   "metadata": {},
   "source": [
    "# UDP Client :\n",
    "A Python UDP client is not much different from a TCP client; we need to\n",
    "make only two small changes to get it to send packets in UDP form:"
   ]
  },
  {
   "cell_type": "code",
   "execution_count": null,
   "metadata": {},
   "outputs": [],
   "source": [
    "import socket\n",
    "import threading\n",
    "\n",
    "# Dictionary to store client sockets keyed by their IP and port\n",
    "clients = {}\n",
    "\n",
    "def handle_client(client_socket, addr):\n",
    "    global clients\n",
    "    # Store the client socket in our dictionary\n",
    "    clients[addr] = client_socket\n",
    "    \n",
    "    # Receive until no more data is available\n",
    "    while True:\n",
    "        try:\n",
    "            request = client_socket.recv(1024).decode()\n",
    "            print(f\"Received: {request}\")\n",
    "            \n",
    "            # Echo back the same response to the client\n",
    "            client_socket.sendall(request.encode())\n",
    "            \n",
    "        except:\n",
    "            break\n",
    "\n",
    "    # Remove the client socket from our dictionary\n",
    "    del clients[addr]\n",
    "\n",
    "    client_socket.close()\n",
    "\n",
    "def close_specific_client(addr):\n",
    "    \"\"\"Close a specific client connection.\"\"\"\n",
    "    if addr in clients:\n",
    "        client_socket = clients[addr]\n",
    "        client_socket.close()\n",
    "        del clients[addr]\n",
    "        print(f\"Closed connection with {addr}\")\n",
    "    else:\n",
    "        print(f\"No active connection found for {addr}\")\n",
    "\n",
    "def start_server(host='127.0.0.1', port=9999):\n",
    "    server_socket = socket.socket(socket.AF_INET, socket.SOCK_STREAM)\n",
    "    server_socket.bind((host, port))\n",
    "    \n",
    "    server_socket.listen()\n",
    "    print(f\"Listening on {host}:{port}\")\n",
    "    \n",
    "    while True:\n",
    "        client_socket, addr = server_socket.accept()\n",
    "        print(f\"Accepted connection from: {addr[0]}:{addr[1]}\")\n",
    "        \n",
    "        # Start a new thread for each client\n",
    "        client_handler = threading.Thread(target=handle_client, args=(client_socket, addr))\n",
    "        client_handler.start()\n",
    "\n",
    "# if __name__ == \"__main__\":\n",
    "#     start_server()\n",
    "close_specific_client(('127.0.0.1', 9999))"
   ]
  },
  {
   "cell_type": "code",
   "execution_count": null,
   "metadata": {},
   "outputs": [],
   "source": [
    "import sys\n",
    "\n",
    "sys.exit(0)"
   ]
  },
  {
   "cell_type": "code",
   "execution_count": null,
   "metadata": {},
   "outputs": [
    {
     "ename": "ConnectionResetError",
     "evalue": "[WinError 10054] An existing connection was forcibly closed by the remote host",
     "output_type": "error",
     "traceback": [
      "\u001b[1;31m---------------------------------------------------------------------------\u001b[0m",
      "\u001b[1;31mConnectionResetError\u001b[0m                      Traceback (most recent call last)",
      "Cell \u001b[1;32mIn[2], line 9\u001b[0m\n\u001b[0;32m      7\u001b[0m client\u001b[38;5;241m.\u001b[39msendto(\u001b[38;5;124mb\u001b[39m\u001b[38;5;124m\"\u001b[39m\u001b[38;5;124mAAABBBCCC\u001b[39m\u001b[38;5;124m\"\u001b[39m,(target_host,target_port))\n\u001b[0;32m      8\u001b[0m \u001b[38;5;66;03m# receive some data\u001b[39;00m\n\u001b[1;32m----> 9\u001b[0m data, addr \u001b[38;5;241m=\u001b[39m \u001b[43mclient\u001b[49m\u001b[38;5;241;43m.\u001b[39;49m\u001b[43mrecvfrom\u001b[49m\u001b[43m(\u001b[49m\u001b[38;5;241;43m4096\u001b[39;49m\u001b[43m)\u001b[49m\n\u001b[0;32m     10\u001b[0m \u001b[38;5;28mprint\u001b[39m(data\u001b[38;5;241m.\u001b[39mdecode())\n\u001b[0;32m     11\u001b[0m client\u001b[38;5;241m.\u001b[39mclose()\n",
      "\u001b[1;31mConnectionResetError\u001b[0m: [WinError 10054] An existing connection was forcibly closed by the remote host"
     ]
    }
   ],
   "source": [
    "import socket\n",
    "target_host = \"127.0.0.1\"\n",
    "target_port = 9999\n",
    "# create a socket object\n",
    "client = socket.socket(socket.AF_INET, socket.SOCK_DGRAM)\n",
    "# send some data\n",
    "client.sendto(b\"AAABBBCCC\",(target_host,target_port))\n",
    "# receive some data\n",
    "data, addr = client.recvfrom(4096)\n",
    "print(data.decode())\n",
    "client.close()"
   ]
  },
  {
   "cell_type": "code",
   "execution_count": null,
   "metadata": {},
   "outputs": [],
   "source": []
  }
 ],
 "metadata": {
  "kernelspec": {
   "display_name": ".venv",
   "language": "python",
   "name": "python3"
  },
  "language_info": {
   "codemirror_mode": {
    "name": "ipython",
    "version": 3
   },
   "file_extension": ".py",
   "mimetype": "text/x-python",
   "name": "python",
   "nbconvert_exporter": "python",
   "pygments_lexer": "ipython3",
   "version": "3.12.3"
  }
 },
 "nbformat": 4,
 "nbformat_minor": 2
}
