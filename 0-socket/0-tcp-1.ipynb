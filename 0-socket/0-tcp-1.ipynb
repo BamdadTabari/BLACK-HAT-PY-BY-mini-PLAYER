{
 "cells": [
  {
   "cell_type": "code",
   "execution_count": 1,
   "metadata": {},
   "outputs": [
    {
     "name": "stdout",
     "output_type": "stream",
     "text": [
      "The word 'python' was not found.\n"
     ]
    }
   ],
   "source": [
    "import socket\n",
    "from bs4 import BeautifulSoup\n",
    "\n",
    "target_host = \"www.google.com\"\n",
    "target_port = 80\n",
    "\n",
    "# Create a socket object\n",
    "client = socket.socket(socket.AF_INET, socket.SOCK_STREAM)\n",
    "\n",
    "# Connect the client\n",
    "client.connect((target_host, target_port))\n",
    "\n",
    "# Send some data\n",
    "#client.send(b\"GET / HTTP/1.1\\r\\nHost: www.google.com\\r\\n\\r\\n\")\n",
    "client.send(b\"GET / HTTP/1.1\\r\\nHost: www.google.com\\r\\n\\r\\n indexof: python\")\n",
    "\n",
    "# Receive some data\n",
    "response = client.recv(4096)\n",
    "\n",
    "# Decode the response\n",
    "html_content = response.decode()\n",
    "\n",
    "# Close the connection\n",
    "client.close()\n",
    "\n",
    "# Parse the HTML content\n",
    "soup = BeautifulSoup(html_content, 'html.parser')\n",
    "\n",
    "# Find all links on the page\n",
    "links = soup.find_all('a')\n",
    "for link in links:\n",
    "    print(link.get('href'))\n",
    "\n",
    "# Search for the word \"python\"\n",
    "if \"python\" in html_content.lower():\n",
    "    print(\"The word 'python' was found.\")\n",
    "else:\n",
    "    print(\"The word 'python' was not found.\")\n"
   ]
  },
  {
   "cell_type": "code",
   "execution_count": null,
   "metadata": {},
   "outputs": [],
   "source": []
  }
 ],
 "metadata": {
  "kernelspec": {
   "display_name": ".venv",
   "language": "python",
   "name": "python3"
  },
  "language_info": {
   "codemirror_mode": {
    "name": "ipython",
    "version": 3
   },
   "file_extension": ".py",
   "mimetype": "text/x-python",
   "name": "python",
   "nbconvert_exporter": "python",
   "pygments_lexer": "ipython3",
   "version": "3.12.3"
  }
 },
 "nbformat": 4,
 "nbformat_minor": 2
}
