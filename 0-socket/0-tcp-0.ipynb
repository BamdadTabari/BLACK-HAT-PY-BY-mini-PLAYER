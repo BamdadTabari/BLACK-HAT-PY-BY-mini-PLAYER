{
 "cells": [
  {
   "cell_type": "markdown",
   "metadata": {},
   "source": [
    "We first create a socket object with the AF_INET and SOCK_STREAM param-\n",
    "eters 1. The AF_INET parameter indicates we’ll use a standard IPv4 address\n",
    "or hostname, and SOCK_STREAM indicates that this will be a TCP client. We\n",
    "then connect the client to the server 2 and send it some data as bytes 3.\n",
    "The last step is to receive some data back and print out the response 4 and\n",
    "then close the socket. This is the simplest form of a TCP client, but it’s the\n",
    "one you’ll write most often.\n",
    "This code snippet makes some serious assumptions about sockets that\n",
    "you definitely want to be aware of. The first assumption is that our con-\n",
    "nection will always succeed, and the second is that the server expects us to\n",
    "send data first (some servers expect to send data to you first and await your\n",
    "response). Our third assumption is that the server will always return data\n",
    "to us in a timely fashion. We make these assumptions largely for simplic-\n",
    "ity’s sake. While programmers have varied opinions about how to deal\n",
    "with blocking sockets, exception-handling in sockets, and the like, it’s\n",
    "quite rare for pentesters to build these niceties into their quick-and-dirty\n",
    "tools for recon or exploitation work, so we’ll omit them in this chapter"
   ]
  },
  {
   "cell_type": "code",
   "execution_count": 15,
   "metadata": {},
   "outputs": [],
   "source": [
    "import socket\n",
    "\n",
    "target_host = \"www.google.com\"\n",
    "target_port = 80\n",
    "# create a socket object\n",
    "#The AF_INET parameter indicates we’ll use a standard IPv4 address\n",
    "#or hostname, and SOCK_STREAM indicates that this will be a TCP client.\n",
    "client = socket.socket(socket.AF_INET, socket.SOCK_STREAM)"
   ]
  },
  {
   "cell_type": "code",
   "execution_count": 16,
   "metadata": {},
   "outputs": [],
   "source": [
    "# connect the client\n",
    "client.connect((target_host,target_port))"
   ]
  },
  {
   "cell_type": "code",
   "execution_count": 18,
   "metadata": {},
   "outputs": [
    {
     "name": "stdout",
     "output_type": "stream",
     "text": [
      "HTTP/1.1 200 OK\n",
      "Date: Tue, 09 Jul 2024 18:37:09 GMT\n",
      "Expires: -1\n",
      "Cache-Control: private, max-age=0\n",
      "Content-Type: text/html; charset=ISO-8859-1\n",
      "Content-Security-Policy-Report-Only: object-src 'none';base-uri 'self';script-src 'nonce-sJjJCntxavw4QbYyagVmPw' 'strict-dynamic' 'report-sample' 'unsafe-eval' 'unsafe-inline' https: http:;report-uri https://csp.withgoogle.com/csp/gws/other-hp\n",
      "P3P: CP=\"This is not a P3P policy! See g.co/p3phelp for more info.\"\n",
      "Server: gws\n",
      "X-XSS-Protection: 0\n",
      "X-Frame-Options: SAMEORIGIN\n",
      "Set-Cookie: AEC=AVYB7cppIrxacBwVPy7sfoqdXkVft-QSPWlKhbVI3EC1fQ9H2R0c06Vrlg; expires=Sun, 05-Jan-2025 18:37:09 GMT; path=/; domain=.google.com; Secure; HttpOnly; SameSite=lax\n",
      "Set-Cookie: NID=515=YB3wTjCTzhh90I2dNrikC7VgzbG5673lXrwr1tXm5Ypfg8ca6a1wNqj4fRV16EAsDwK7pFDmgSLxbmGJgdoJIRua4tbR1ePXK9QyIPNjDgiFkDq1_VWR-f58wheuI6Z3u6H3ZW3c-7ZphbqVj-wZzP2dFrJ4He5UDA6VrTgbhnM; expires=Wed, 08-Jan-2025 18:37:09 GMT; path=/; domain=.google.com; HttpOnly\n",
      "Accept-Ranges: none\n",
      "Vary: Accept-Encoding\n",
      "Transfer-Encoding: chunked\n",
      "\n",
      "15f\n",
      "<!doctype html><html itemscope=\"\" itemtype=\"http://schema.org/WebPage\" lang=\"en-IR\"><head><meta content=\"Search the world's information, including webpages, images, videos and more. Google has many special features to help you find exactly what you're looking for.\" name=\"description\"><meta content=\"noodp, \" name=\"robots\"><meta content=\"text/html; ch\n",
      "578\n",
      "arset=UTF-8\" http-equiv=\"Content-Type\"><meta content=\"/images/branding/googleg/1x/googleg_standard_color_128dp.png\" itemprop=\"image\"><title>Google</title><script nonce=\"sJjJCntxavw4QbYyagVmPw\">(function(){var _g={kEI:'VYONZsXmHPiS4-EP7tq1SA',kEXPI:'0,3700245,704,432,8,523558,15098,2872,2891,11754,61296,16105,18161,145698,2,16737,23024,6700,41945,57737,2,2,1,24626,2006,8155,23350,22436,72437,73178,3030,15816,1804,7734,39348,1632,9711,46651,5203197,12,8575,892,621,38,317,4,5991450,2839759,825,6,69,55,2,14,26675763,1305642,16672,43887,3,318,4,1281,3,2124363,23029351,4117,4046,4636,8409,8027,2727,5910,17804,10223,36870,10511,2370,4832,1575,13846,9210,3742,2212,8182,22852,4,22433,4140,10085,11587,4798,1954,155,2484,13504,7735,6600,2539,967,541,3092,207,121,3217,4,3004,7560,4,22,5,382,1980,3944,1695,4081,410,518,3765,643,3,88,1221,1669,1644,48,3942,687,928,1811,3,186,2299,456,945,45,1122,3,418,1353,156,423,3360,1543,2936,4419,2,2,597,4,1155,120,1703,3865,580,102,659,19,5656,57,117,337,918,425,1676,14,1534,324,996,494,1,567,205,367,361,1132,1,433,286,2,9,623,1457,1917,3,836,1348,529,157,1447,249,295,1497,1538,3,2,3,637,448,419,125,1,6,263,412,1572,369,3,93,449,570,663,136,168,3,1,9,17,291,221,65,449,75,3,1,1265,2,2101,534,68,401,66,1491,87,248,354,905,569,1040,536,633,624,245,438,242,450,239,419,366,99,1195,242,1813,330,737,272,131,1729,210,39,930,24,383,233,761,1102,51,3,807,125,571,\n",
      "\n"
     ]
    }
   ],
   "source": [
    "# send some data\n",
    "client.send(b\"GET / HTTP/1.1\\r\\nHost: www.google.com\\r\\n\\r\\n\")\n",
    "# receive some data\n",
    "response = client.recv(4096)\n",
    "print(response.decode())\n",
    "client.close()"
   ]
  },
  {
   "cell_type": "code",
   "execution_count": null,
   "metadata": {},
   "outputs": [],
   "source": []
  }
 ],
 "metadata": {
  "language_info": {
   "name": "python"
  }
 },
 "nbformat": 4,
 "nbformat_minor": 2
}
